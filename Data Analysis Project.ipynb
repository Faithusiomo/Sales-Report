{
 "cells": [
  {
   "cell_type": "markdown",
   "metadata": {
    "id": "E3K0BWJ94cSb"
   },
   "source": [
    "This dataset is taken from https://www.kaggle.com/datasets/sootersaalu/amazon-top-50-bestselling-books-2009-2019, which is realeased under CC0:Public Domain"
   ]
  },
  {
   "cell_type": "markdown",
   "metadata": {
    "id": "zo_gMFIz4cSf"
   },
   "source": [
    "![Amazon.jpg](attachment:Amazon.jpg)"
   ]
  },
  {
   "cell_type": "markdown",
   "metadata": {
    "id": "CfFPtfeg4cSg"
   },
   "source": [
    "Dataset on Amazon's Top 50 bestselling books from 2009 to 2019. Contains 550 books, data has been categorized into fiction and non-fiction using Goodreads\n",
    "- Name\n",
    "- Author\n",
    "- User Rating\n",
    "- Reviews\n",
    "- Price\n",
    "- Year\n",
    "- Genre"
   ]
  },
  {
   "cell_type": "code",
   "execution_count": 4,
   "metadata": {
    "executionInfo": {
     "elapsed": 392,
     "status": "ok",
     "timestamp": 1655205358976,
     "user": {
      "displayName": "Alastair Brown",
      "userId": "04707479692243359168"
     },
     "user_tz": -60
    },
    "id": "TBIARFXY4cSh"
   },
   "outputs": [],
   "source": [
    "import pandas as pd\n",
    "import numpy as np\n",
    "import matplotlib.pyplot as plt\n",
    "import seaborn as sns"
   ]
  },
  {
   "cell_type": "code",
   "execution_count": 6,
   "metadata": {
    "colab": {
     "base_uri": "https://localhost:8080/",
     "height": 311
    },
    "executionInfo": {
     "elapsed": 217,
     "status": "error",
     "timestamp": 1655205418542,
     "user": {
      "displayName": "Alastair Brown",
      "userId": "04707479692243359168"
     },
     "user_tz": -60
    },
    "id": "gT60QhX_4cSi",
    "outputId": "2257bba1-5942-4145-9f52-d2f8610e1165"
   },
   "outputs": [],
   "source": [
    "books = pd.read_csv('C:/Users/felak/Downloads/Amazon_Book_Data.csv')\n"
   ]
  },
  {
   "cell_type": "code",
   "execution_count": 7,
   "metadata": {},
   "outputs": [],
   "source": []
  },
  {
   "cell_type": "code",
   "execution_count": 8,
   "metadata": {
    "colab": {
     "base_uri": "https://localhost:8080/",
     "height": 165
    },
    "executionInfo": {
     "elapsed": 845,
     "status": "error",
     "timestamp": 1655204620633,
     "user": {
      "displayName": "Alastair Brown",
      "userId": "04707479692243359168"
     },
     "user_tz": -60
    },
    "id": "bVElDrLW4cSi",
    "outputId": "d8b534f9-cd4a-4146-9288-357749685477"
   },
   "outputs": [
    {
     "data": {
      "text/html": [
       "<div>\n",
       "<style scoped>\n",
       "    .dataframe tbody tr th:only-of-type {\n",
       "        vertical-align: middle;\n",
       "    }\n",
       "\n",
       "    .dataframe tbody tr th {\n",
       "        vertical-align: top;\n",
       "    }\n",
       "\n",
       "    .dataframe thead th {\n",
       "        text-align: right;\n",
       "    }\n",
       "</style>\n",
       "<table border=\"1\" class=\"dataframe\">\n",
       "  <thead>\n",
       "    <tr style=\"text-align: right;\">\n",
       "      <th></th>\n",
       "      <th>Name</th>\n",
       "      <th>Author</th>\n",
       "      <th>User Rating</th>\n",
       "      <th>Reviews</th>\n",
       "      <th>Price</th>\n",
       "      <th>Year</th>\n",
       "      <th>Genre</th>\n",
       "    </tr>\n",
       "  </thead>\n",
       "  <tbody>\n",
       "    <tr>\n",
       "      <th>0</th>\n",
       "      <td>10-Day Green Smoothie Cleanse</td>\n",
       "      <td>JJ Smith</td>\n",
       "      <td>4.7</td>\n",
       "      <td>17350</td>\n",
       "      <td>8</td>\n",
       "      <td>2016</td>\n",
       "      <td>Non Fiction</td>\n",
       "    </tr>\n",
       "    <tr>\n",
       "      <th>1</th>\n",
       "      <td>11/22/63: A Novel</td>\n",
       "      <td>Stephen King</td>\n",
       "      <td>4.6</td>\n",
       "      <td>2052</td>\n",
       "      <td>22</td>\n",
       "      <td>2011</td>\n",
       "      <td>Fiction</td>\n",
       "    </tr>\n",
       "    <tr>\n",
       "      <th>2</th>\n",
       "      <td>12 Rules for Life: An Antidote to Chaos</td>\n",
       "      <td>Jordan B. Peterson</td>\n",
       "      <td>4.7</td>\n",
       "      <td>18979</td>\n",
       "      <td>15</td>\n",
       "      <td>2018</td>\n",
       "      <td>Non Fiction</td>\n",
       "    </tr>\n",
       "    <tr>\n",
       "      <th>3</th>\n",
       "      <td>1984 (Signet Classics)</td>\n",
       "      <td>George Orwell</td>\n",
       "      <td>4.7</td>\n",
       "      <td>21424</td>\n",
       "      <td>6</td>\n",
       "      <td>2017</td>\n",
       "      <td>Fiction</td>\n",
       "    </tr>\n",
       "    <tr>\n",
       "      <th>4</th>\n",
       "      <td>5,000 Awesome Facts (About Everything!) (Natio...</td>\n",
       "      <td>National Geographic Kids</td>\n",
       "      <td>4.8</td>\n",
       "      <td>7665</td>\n",
       "      <td>12</td>\n",
       "      <td>2019</td>\n",
       "      <td>Non Fiction</td>\n",
       "    </tr>\n",
       "  </tbody>\n",
       "</table>\n",
       "</div>"
      ],
      "text/plain": [
       "                                                Name  \\\n",
       "0                      10-Day Green Smoothie Cleanse   \n",
       "1                                  11/22/63: A Novel   \n",
       "2            12 Rules for Life: An Antidote to Chaos   \n",
       "3                             1984 (Signet Classics)   \n",
       "4  5,000 Awesome Facts (About Everything!) (Natio...   \n",
       "\n",
       "                     Author  User Rating  Reviews  Price  Year        Genre  \n",
       "0                  JJ Smith          4.7    17350      8  2016  Non Fiction  \n",
       "1              Stephen King          4.6     2052     22  2011      Fiction  \n",
       "2        Jordan B. Peterson          4.7    18979     15  2018  Non Fiction  \n",
       "3             George Orwell          4.7    21424      6  2017      Fiction  \n",
       "4  National Geographic Kids          4.8     7665     12  2019  Non Fiction  "
      ]
     },
     "execution_count": 8,
     "metadata": {},
     "output_type": "execute_result"
    }
   ],
   "source": [
    "books.head()"
   ]
  },
  {
   "cell_type": "markdown",
   "metadata": {
    "id": "JbUTtHs44cSj"
   },
   "source": [
    "Identify the features that are categorical\n",
    "- Name , Author and Genre are categorical features in our dataset\n",
    "\n",
    "Numerical features\n",
    "- Rating, Review, Price, Year"
   ]
  },
  {
   "cell_type": "code",
   "execution_count": 9,
   "metadata": {
    "colab": {
     "base_uri": "https://localhost:8080/",
     "height": 165
    },
    "executionInfo": {
     "elapsed": 8,
     "status": "error",
     "timestamp": 1655205196494,
     "user": {
      "displayName": "Alastair Brown",
      "userId": "04707479692243359168"
     },
     "user_tz": -60
    },
    "id": "xXs5EIAh4cSk",
    "outputId": "17c6290f-e6b8-4c9e-feef-73df0388fcaf"
   },
   "outputs": [
    {
     "data": {
      "text/plain": [
       "(550, 7)"
      ]
     },
     "execution_count": 9,
     "metadata": {},
     "output_type": "execute_result"
    }
   ],
   "source": [
    "books.shape"
   ]
  },
  {
   "cell_type": "markdown",
   "metadata": {
    "id": "4t8-kZVR4cSk"
   },
   "source": [
    "There are 550 rows and 7 columns in our dataset"
   ]
  },
  {
   "cell_type": "code",
   "execution_count": 10,
   "metadata": {
    "colab": {
     "base_uri": "https://localhost:8080/",
     "height": 165
    },
    "executionInfo": {
     "elapsed": 6,
     "status": "error",
     "timestamp": 1655205196496,
     "user": {
      "displayName": "Alastair Brown",
      "userId": "04707479692243359168"
     },
     "user_tz": -60
    },
    "id": "NOPJmSkY4cSl",
    "outputId": "dc45a8a4-94ed-4311-e1a9-d5610965b7e8"
   },
   "outputs": [
    {
     "data": {
      "text/plain": [
       "Name            object\n",
       "Author          object\n",
       "User Rating    float64\n",
       "Reviews          int64\n",
       "Price            int64\n",
       "Year             int64\n",
       "Genre           object\n",
       "dtype: object"
      ]
     },
     "execution_count": 10,
     "metadata": {},
     "output_type": "execute_result"
    }
   ],
   "source": [
    "books.dtypes"
   ]
  },
  {
   "cell_type": "markdown",
   "metadata": {
    "id": "tBW2lRF24cSm"
   },
   "source": [
    "Name , Author and Genre are objects where as Reviews, Price, Year are integars and User Rating is float "
   ]
  },
  {
   "cell_type": "code",
   "execution_count": 11,
   "metadata": {
    "id": "purXVRFV4cSm",
    "outputId": "a7af07a1-b0f9-4e4c-ca16-4a14611846c2"
   },
   "outputs": [
    {
     "data": {
      "text/html": [
       "<div>\n",
       "<style scoped>\n",
       "    .dataframe tbody tr th:only-of-type {\n",
       "        vertical-align: middle;\n",
       "    }\n",
       "\n",
       "    .dataframe tbody tr th {\n",
       "        vertical-align: top;\n",
       "    }\n",
       "\n",
       "    .dataframe thead th {\n",
       "        text-align: right;\n",
       "    }\n",
       "</style>\n",
       "<table border=\"1\" class=\"dataframe\">\n",
       "  <thead>\n",
       "    <tr style=\"text-align: right;\">\n",
       "      <th></th>\n",
       "      <th>User Rating</th>\n",
       "      <th>Reviews</th>\n",
       "      <th>Price</th>\n",
       "      <th>Year</th>\n",
       "    </tr>\n",
       "  </thead>\n",
       "  <tbody>\n",
       "    <tr>\n",
       "      <th>count</th>\n",
       "      <td>550.000000</td>\n",
       "      <td>550.000000</td>\n",
       "      <td>550.000000</td>\n",
       "      <td>550.000000</td>\n",
       "    </tr>\n",
       "    <tr>\n",
       "      <th>mean</th>\n",
       "      <td>4.618364</td>\n",
       "      <td>11953.281818</td>\n",
       "      <td>13.100000</td>\n",
       "      <td>2014.000000</td>\n",
       "    </tr>\n",
       "    <tr>\n",
       "      <th>std</th>\n",
       "      <td>0.226980</td>\n",
       "      <td>11731.132017</td>\n",
       "      <td>10.842262</td>\n",
       "      <td>3.165156</td>\n",
       "    </tr>\n",
       "    <tr>\n",
       "      <th>min</th>\n",
       "      <td>3.300000</td>\n",
       "      <td>37.000000</td>\n",
       "      <td>0.000000</td>\n",
       "      <td>2009.000000</td>\n",
       "    </tr>\n",
       "    <tr>\n",
       "      <th>25%</th>\n",
       "      <td>4.500000</td>\n",
       "      <td>4058.000000</td>\n",
       "      <td>7.000000</td>\n",
       "      <td>2011.000000</td>\n",
       "    </tr>\n",
       "    <tr>\n",
       "      <th>50%</th>\n",
       "      <td>4.700000</td>\n",
       "      <td>8580.000000</td>\n",
       "      <td>11.000000</td>\n",
       "      <td>2014.000000</td>\n",
       "    </tr>\n",
       "    <tr>\n",
       "      <th>75%</th>\n",
       "      <td>4.800000</td>\n",
       "      <td>17253.250000</td>\n",
       "      <td>16.000000</td>\n",
       "      <td>2017.000000</td>\n",
       "    </tr>\n",
       "    <tr>\n",
       "      <th>max</th>\n",
       "      <td>4.900000</td>\n",
       "      <td>87841.000000</td>\n",
       "      <td>105.000000</td>\n",
       "      <td>2019.000000</td>\n",
       "    </tr>\n",
       "  </tbody>\n",
       "</table>\n",
       "</div>"
      ],
      "text/plain": [
       "       User Rating       Reviews       Price         Year\n",
       "count   550.000000    550.000000  550.000000   550.000000\n",
       "mean      4.618364  11953.281818   13.100000  2014.000000\n",
       "std       0.226980  11731.132017   10.842262     3.165156\n",
       "min       3.300000     37.000000    0.000000  2009.000000\n",
       "25%       4.500000   4058.000000    7.000000  2011.000000\n",
       "50%       4.700000   8580.000000   11.000000  2014.000000\n",
       "75%       4.800000  17253.250000   16.000000  2017.000000\n",
       "max       4.900000  87841.000000  105.000000  2019.000000"
      ]
     },
     "execution_count": 11,
     "metadata": {},
     "output_type": "execute_result"
    }
   ],
   "source": [
    "books.describe()"
   ]
  },
  {
   "cell_type": "code",
   "execution_count": 12,
   "metadata": {
    "id": "_nbHGqnL4cSm",
    "outputId": "898ce45b-8780-4c87-85e0-300cb694979d"
   },
   "outputs": [
    {
     "data": {
      "text/html": [
       "<div>\n",
       "<style scoped>\n",
       "    .dataframe tbody tr th:only-of-type {\n",
       "        vertical-align: middle;\n",
       "    }\n",
       "\n",
       "    .dataframe tbody tr th {\n",
       "        vertical-align: top;\n",
       "    }\n",
       "\n",
       "    .dataframe thead th {\n",
       "        text-align: right;\n",
       "    }\n",
       "</style>\n",
       "<table border=\"1\" class=\"dataframe\">\n",
       "  <thead>\n",
       "    <tr style=\"text-align: right;\">\n",
       "      <th></th>\n",
       "      <th>Name</th>\n",
       "      <th>Author</th>\n",
       "      <th>Genre</th>\n",
       "    </tr>\n",
       "  </thead>\n",
       "  <tbody>\n",
       "    <tr>\n",
       "      <th>count</th>\n",
       "      <td>550</td>\n",
       "      <td>550</td>\n",
       "      <td>550</td>\n",
       "    </tr>\n",
       "    <tr>\n",
       "      <th>unique</th>\n",
       "      <td>351</td>\n",
       "      <td>248</td>\n",
       "      <td>2</td>\n",
       "    </tr>\n",
       "    <tr>\n",
       "      <th>top</th>\n",
       "      <td>Publication Manual of the American Psychologic...</td>\n",
       "      <td>Jeff Kinney</td>\n",
       "      <td>Non Fiction</td>\n",
       "    </tr>\n",
       "    <tr>\n",
       "      <th>freq</th>\n",
       "      <td>10</td>\n",
       "      <td>12</td>\n",
       "      <td>310</td>\n",
       "    </tr>\n",
       "  </tbody>\n",
       "</table>\n",
       "</div>"
      ],
      "text/plain": [
       "                                                     Name       Author  \\\n",
       "count                                                 550          550   \n",
       "unique                                                351          248   \n",
       "top     Publication Manual of the American Psychologic...  Jeff Kinney   \n",
       "freq                                                   10           12   \n",
       "\n",
       "              Genre  \n",
       "count           550  \n",
       "unique            2  \n",
       "top     Non Fiction  \n",
       "freq            310  "
      ]
     },
     "execution_count": 12,
     "metadata": {},
     "output_type": "execute_result"
    }
   ],
   "source": [
    "books.describe(include = ['O'])"
   ]
  },
  {
   "cell_type": "markdown",
   "metadata": {
    "id": "7llbEsHC4cSn"
   },
   "source": [
    "There are 550 records of books in our dataset, out of which 351 are unique. Similary, there are 550 Authors and 248 of them are unique. This show we have duplicates in our dataset"
   ]
  },
  {
   "cell_type": "code",
   "execution_count": 13,
   "metadata": {
    "id": "oSPN7h2n4cSn",
    "outputId": "af9d96e6-1384-4fcf-c8df-b08deccb8a7b"
   },
   "outputs": [
    {
     "name": "stdout",
     "output_type": "stream",
     "text": [
      "<class 'pandas.core.frame.DataFrame'>\n",
      "RangeIndex: 550 entries, 0 to 549\n",
      "Data columns (total 7 columns):\n",
      " #   Column       Non-Null Count  Dtype  \n",
      "---  ------       --------------  -----  \n",
      " 0   Name         550 non-null    object \n",
      " 1   Author       550 non-null    object \n",
      " 2   User Rating  550 non-null    float64\n",
      " 3   Reviews      550 non-null    int64  \n",
      " 4   Price        550 non-null    int64  \n",
      " 5   Year         550 non-null    int64  \n",
      " 6   Genre        550 non-null    object \n",
      "dtypes: float64(1), int64(3), object(3)\n",
      "memory usage: 30.2+ KB\n"
     ]
    }
   ],
   "source": [
    "books.info()"
   ]
  },
  {
   "cell_type": "code",
   "execution_count": 14,
   "metadata": {
    "id": "9oH7izEA4cSo",
    "outputId": "0d721043-4fb3-43a0-e440-ac914aca4042"
   },
   "outputs": [
    {
     "data": {
      "text/plain": [
       "Name           0\n",
       "Author         0\n",
       "User Rating    0\n",
       "Reviews        0\n",
       "Price          0\n",
       "Year           0\n",
       "Genre          0\n",
       "dtype: int64"
      ]
     },
     "execution_count": 14,
     "metadata": {},
     "output_type": "execute_result"
    }
   ],
   "source": [
    "books.isnull().sum()"
   ]
  },
  {
   "cell_type": "markdown",
   "metadata": {
    "id": "1PjRSPvp4cSo"
   },
   "source": [
    "There are no null values in out dataset"
   ]
  },
  {
   "cell_type": "code",
   "execution_count": 15,
   "metadata": {
    "id": "wQHKiF1G4cSo",
    "outputId": "5e2aaee1-f227-4b7d-c30f-cd4cbfd3cfb8"
   },
   "outputs": [
    {
     "name": "stdout",
     "output_type": "stream",
     "text": [
      "Empty DataFrame\n",
      "Columns: [Name, Author, User Rating, Reviews, Price, Year, Genre]\n",
      "Index: []\n"
     ]
    }
   ],
   "source": [
    "duplicatedbooks = books[books.duplicated()]\n",
    "print(duplicatedbooks)"
   ]
  },
  {
   "cell_type": "code",
   "execution_count": 16,
   "metadata": {
    "id": "9Ol2EN0H4cSp",
    "outputId": "2f644e6c-2875-4a62-c274-41f456291365"
   },
   "outputs": [
    {
     "name": "stdout",
     "output_type": "stream",
     "text": [
      "                                                  Name            Author  \\\n",
      "10                           A Man Called Ove: A Novel   Fredrik Backman   \n",
      "21                         All the Light We Cannot See     Anthony Doerr   \n",
      "33                                            Becoming    Michelle Obama   \n",
      "36                            Between the World and Me  Ta-Nehisi Coates   \n",
      "41            Brown Bear, Brown Bear, What Do You See?   Bill Martin Jr.   \n",
      "..                                                 ...               ...   \n",
      "543                                             Wonder     R. J. Palacio   \n",
      "544                                             Wonder     R. J. Palacio   \n",
      "547  You Are a Badass: How to Stop Doubting Your Gr...       Jen Sincero   \n",
      "548  You Are a Badass: How to Stop Doubting Your Gr...       Jen Sincero   \n",
      "549  You Are a Badass: How to Stop Doubting Your Gr...       Jen Sincero   \n",
      "\n",
      "     User Rating  Reviews  Price  Year        Genre  \n",
      "10           4.6    23848      8  2017      Fiction  \n",
      "21           4.6    36348     14  2015      Fiction  \n",
      "33           4.8    61133     11  2019  Non Fiction  \n",
      "36           4.7    10070     13  2016  Non Fiction  \n",
      "41           4.9    14344      5  2019      Fiction  \n",
      "..           ...      ...    ...   ...          ...  \n",
      "543          4.8    21625      9  2016      Fiction  \n",
      "544          4.8    21625      9  2017      Fiction  \n",
      "547          4.7    14331      8  2017  Non Fiction  \n",
      "548          4.7    14331      8  2018  Non Fiction  \n",
      "549          4.7    14331      8  2019  Non Fiction  \n",
      "\n",
      "[199 rows x 7 columns]\n"
     ]
    }
   ],
   "source": [
    "duplicatedbooks = books[books[['Name','Author']].duplicated()]\n",
    "print(duplicatedbooks)"
   ]
  },
  {
   "cell_type": "markdown",
   "metadata": {
    "id": "EG3XdL6s4cSp"
   },
   "source": [
    "We do have duplicates in Name and Author columns but the year for each row is different. This means the same book was bestseller multiple times, thus we cannot remove these duplicates"
   ]
  },
  {
   "cell_type": "code",
   "execution_count": 17,
   "metadata": {
    "id": "M9KSc-ud4cSp",
    "outputId": "c0462021-e8d0-4123-92c5-3168700a85ca"
   },
   "outputs": [
    {
     "data": {
      "text/plain": [
       "Name           351\n",
       "Author         248\n",
       "User Rating     14\n",
       "Reviews        346\n",
       "Price           40\n",
       "Year            11\n",
       "Genre            2\n",
       "dtype: int64"
      ]
     },
     "execution_count": 17,
     "metadata": {},
     "output_type": "execute_result"
    }
   ],
   "source": [
    "books.nunique()"
   ]
  },
  {
   "cell_type": "code",
   "execution_count": 18,
   "metadata": {
    "id": "S4gE3gV04cSq",
    "outputId": "db82b27b-bbab-4634-c208-dc51fda7a279"
   },
   "outputs": [
    {
     "data": {
      "text/plain": [
       "2016    50\n",
       "2011    50\n",
       "2018    50\n",
       "2017    50\n",
       "2019    50\n",
       "2014    50\n",
       "2010    50\n",
       "2009    50\n",
       "2015    50\n",
       "2013    50\n",
       "2012    50\n",
       "Name: Year, dtype: int64"
      ]
     },
     "execution_count": 18,
     "metadata": {},
     "output_type": "execute_result"
    }
   ],
   "source": [
    "books['Year'].value_counts()"
   ]
  },
  {
   "cell_type": "code",
   "execution_count": 20,
   "metadata": {
    "id": "5sNZnSZm4cSq",
    "outputId": "3e08ba1d-bec8-4afd-89de-f15f36831010"
   },
   "outputs": [
    {
     "data": {
      "text/plain": [
       "(5.0, 0.0)"
      ]
     },
     "execution_count": 20,
     "metadata": {},
     "output_type": "execute_result"
    },
    {
     "data": {
      "image/png": "[encoded data removed]",
      "text/plain": [
       "<Figure size 1800x792 with 2 Axes>"
      ]
     },
     "metadata": {
      "needs_background": "light"
     },
     "output_type": "display_data"
    }
   ],
   "source": [
    "import seaborn as sns\n",
    "import matplotlib.pyplot as plt\n",
    "plt.figure(figsize=(25,11\n",
    "                   \n",
    "                   \n",
    "                   \n",
    "                   ))\n",
    "ax = sns.heatmap(books.corr(), vmax=0.8, square=True, annot_kws={'size':10}, annot=True)\n",
    "ax.get_ylim()\n",
    "(5.5, 0.5)\n",
    "ax.set_ylim(5.0, 0) "
   ]
  },
  {
   "cell_type": "code",
   "execution_count": 21,
   "metadata": {
    "id": "p3Y0Y8bM4cSr",
    "outputId": "438b10e2-5428-40dc-a94f-1114acb2106e"
   },
   "outputs": [
    {
     "name": "stdout",
     "output_type": "stream",
     "text": [
      "The number of best seller fiction books are :  240 (43.6%)\n",
      "The number of best seller non-fiction books are: 310 (56.4%)\n"
     ]
    }
   ],
   "source": [
    "#Fiction vs Non-fiction books\n",
    "fiction = len(books[books['Genre'] == 'Fiction'])\n",
    "non_fiction = len(books[books['Genre'] == 'Non Fiction'])\n",
    "print('The number of best seller fiction books are :  %i (%.1f%%)'% (fiction, (fiction)/len(books)*100 ))\n",
    "print('The number of best seller non-fiction books are: %i (%.1f%%)'% (non_fiction,(non_fiction)/len(books)*100 ) )"
   ]
  },
  {
   "cell_type": "markdown",
   "metadata": {
    "id": "yiF06KSJ4cSr"
   },
   "source": [
    "It is evident that non-fiction books are more popular as compared to fictional books"
   ]
  },
  {
   "cell_type": "code",
   "execution_count": 22,
   "metadata": {
    "id": "3CTFOvZ04cSr",
    "outputId": "2b460762-c0d9-43f9-92c9-7ffd078cf048"
   },
   "outputs": [
    {
     "data": {
      "image/png": "[encoded data removed]",
      "text/plain": [
       "<Figure size 720x432 with 1 Axes>"
      ]
     },
     "metadata": {},
     "output_type": "display_data"
    }
   ],
   "source": [
    "#Pie-chart\n",
    "value = books['Genre'].value_counts()\n",
    "my_colors = ['darkorange', 'dimgrey']\n",
    "my_explode = (0, 0.1, 0)\n",
    "fig1, ax1 = plt.subplots(figsize=(10, 6))\n",
    "ax1.pie(value.values,labels=value.index,autopct='%1.1f%%', colors=my_colors)\n",
    "plt.title('Genre Comparison')\n",
    "plt.show()"
   ]
  },
  {
   "cell_type": "code",
   "execution_count": 24,
   "metadata": {
    "id": "Mz4LqgQE4cSs",
    "outputId": "eaca3797-5edb-4e99-8d44-c8f294d549e2"
   },
   "outputs": [
    {
     "data": {
      "image/png": "[encoded data removed]",
      "text/plain": [
       "<Figure size 720x576 with 1 Axes>"
      ]
     },
     "metadata": {
      "needs_background": "light"
     },
     "output_type": "display_data"
    }
   ],
   "source": [
    "plt.figure(figsize = (10,8))\n",
    "plt.scatter(books['User Rating'],books['Reviews'], label = \"User Rating\")\n",
    "plt.xlabel(\"User Ratings\")\n",
    "plt.ylabel(\"Reviews\")\n",
    "plt.title(\"The Relationship Between User ratings and Reviews\")\n",
    "plt.show()"
   ]
  },
  {
   "cell_type": "code",
   "execution_count": 25,
   "metadata": {
    "id": "BJX7sKE84cSs",
    "outputId": "8d390902-50cd-49f3-d6cd-17f1ba2a9ecf"
   },
   "outputs": [
    {
     "data": {
      "image/png": "[encoded data removed]",
      "text/plain": [
       "<Figure size 720x432 with 1 Axes>"
      ]
     },
     "metadata": {
      "needs_background": "light"
     },
     "output_type": "display_data"
    }
   ],
   "source": [
    "#Top 5 Authors with most reviews\n",
    "book=books.groupby('Author')['Reviews'].agg([sum]).sort_values(by=('sum'),ascending=False).reset_index().head(5)\n",
    "\n",
    "fig1, ax1 = plt.subplots(figsize=(10, 6))\n",
    "ax1.set_facecolor('dimgrey')\n",
    "ax1.bar(book['Author'],book['sum'],color='darkorange')\n",
    "plt.title('Top 5 Authors with most reviews')\n",
    "plt.xlabel(\"Authors\")\n",
    "plt.ylabel(\"Reviews\")\n",
    "plt.show()"
   ]
  },
  {
   "cell_type": "markdown",
   "metadata": {
    "id": "yk8u0IcA4cSs"
   },
   "source": [
    "The above graph shows Suzanne Collins, John Green are the top 2 authors who has got the most reviews"
   ]
  },
  {
   "cell_type": "code",
   "execution_count": 26,
   "metadata": {
    "id": "mNSTh_tL4cSs",
    "outputId": "c27188b8-e56e-417f-ff4c-6f2f95f3d0ff"
   },
   "outputs": [
    {
     "data": {
      "image/png": "[encoded data removed]",
      "text/plain": [
       "<Figure size 720x432 with 1 Axes>"
      ]
     },
     "metadata": {
      "needs_background": "light"
     },
     "output_type": "display_data"
    }
   ],
   "source": [
    "#Top 5 Authors with highest ratings (on average)\n",
    "book=books.groupby('Author')['User Rating'].agg(['mean']).sort_values(by=('mean'),ascending=False).reset_index().head(5)\n",
    "\n",
    "fig1, ax1 = plt.subplots(figsize=(10, 6))\n",
    "ax1.set_facecolor('dimgrey')\n",
    "ax1.bar(book['Author'],book['mean'],color='darkorange')\n",
    "plt.title('Top 5 Authors with highest User Ratings')\n",
    "plt.xlabel(\"Authors\")\n",
    "plt.ylabel(\"Ratings\")\n",
    "plt.show()"
   ]
  },
  {
   "cell_type": "markdown",
   "metadata": {
    "id": "CLErrtZL4cSt"
   },
   "source": [
    "The above graph shows Top 5 Authors with respect to highest ratings "
   ]
  },
  {
   "cell_type": "code",
   "execution_count": 27,
   "metadata": {
    "id": "O3jRQpdD4cSt",
    "outputId": "a24ac0f9-9e93-4487-e032-86187d04db3f"
   },
   "outputs": [
    {
     "data": {
      "image/png": "[encoded data removed]",
      "text/plain": [
       "<Figure size 720x432 with 1 Axes>"
      ]
     },
     "metadata": {
      "needs_background": "light"
     },
     "output_type": "display_data"
    }
   ],
   "source": [
    "#Bottom 5 Authors with least reviews\n",
    "book=books.groupby('Author')['Reviews'].agg([sum]).sort_values(by=('sum'),ascending=True).reset_index().head(5)\n",
    "\n",
    "fig1, ax1 = plt.subplots(figsize=(10, 6))\n",
    "ax1.set_facecolor('dimgrey')\n",
    "ax1.bar(book['Author'],book['sum'],color='darkorange')\n",
    "plt.title('Bottom 5 Authors with least reviews')\n",
    "plt.xlabel(\"Authors\")\n",
    "plt.ylabel(\"Ratings\")\n",
    "plt.show()"
   ]
  },
  {
   "cell_type": "code",
   "execution_count": 28,
   "metadata": {
    "id": "4pp2jz3U4cSt",
    "outputId": "a78b9e96-8e57-4756-e3f7-b31e1cd4a6ed"
   },
   "outputs": [
    {
     "data": {
      "image/png": "[encoded data removed]",
      "text/plain": [
       "<Figure size 720x432 with 1 Axes>"
      ]
     },
     "metadata": {
      "needs_background": "light"
     },
     "output_type": "display_data"
    }
   ],
   "source": [
    "#Top 5 Authors with highest ratings (on average)\n",
    "book=books.groupby('Author')['User Rating'].agg(['mean']).sort_values(by=('mean'),ascending=True).reset_index().head(5)\n",
    "\n",
    "fig1, ax1 = plt.subplots(figsize=(10, 6))\n",
    "ax1.set_facecolor('dimgrey')\n",
    "ax1.bar(book['Author'],book['mean'],color='darkorange')\n",
    "plt.title('Bottom 5 Authors with lowest ratings')\n",
    "plt.xlabel(\"Authors\")\n",
    "plt.ylabel(\"Ratings\")\n",
    "plt.show()"
   ]
  },
  {
   "cell_type": "markdown",
   "metadata": {
    "id": "hdIlOEhL4cSt"
   },
   "source": [
    "Here, we see an interesting fact. Gillian Flynn is in the top 5 authors with the most reviews, however in terms of ratings he lies in the bottom 5"
   ]
  },
  {
   "cell_type": "code",
   "execution_count": 29,
   "metadata": {
    "id": "I9kzgGut4cSt",
    "outputId": "2669c49b-a13b-4534-f5fb-1f5434403158"
   },
   "outputs": [
    {
     "name": "stdout",
     "output_type": "stream",
     "text": [
      "                                index  Author\n",
      "0                         Jeff Kinney      12\n",
      "1                        Gary Chapman      11\n",
      "2                        Rick Riordan      11\n",
      "3                     Suzanne Collins      11\n",
      "4  American Psychological Association      10\n",
      "5                           Dr. Seuss       9\n",
      "6                              Gallup       9\n",
      "7                         Rob Elliott       8\n",
      "8                    Stephen R. Covey       7\n",
      "9                     Stephenie Meyer       7\n"
     ]
    }
   ],
   "source": [
    "book_author = books['Author'].value_counts().reset_index().head(10)\n",
    "print(book_author)"
   ]
  },
  {
   "cell_type": "code",
   "execution_count": null,
   "metadata": {
    "id": "lb7jAdze4cSt",
    "outputId": "97b683bd-9730-4660-c5dd-41126c6b9d47"
   },
   "outputs": [
    {
     "data": {
      "image/png": "[encoded data removed]",
      "text/plain": [
       "<Figure size 720x432 with 1 Axes>"
      ]
     },
     "metadata": {
      "needs_background": "light"
     },
     "output_type": "display_data"
    }
   ],
   "source": [
    "fig1, ax1 = plt.subplots(figsize=(10, 6))\n",
    "ax1.set_facecolor('dimgrey')\n",
    "ax1.barh(book_author['index'],book_author['Author'],color='darkorange')\n",
    "plt.title('Best seller Authors')\n",
    "plt.show()"
   ]
  },
  {
   "cell_type": "markdown",
   "metadata": {
    "id": "gTtQ2Kiy4cSu"
   },
   "source": [
    "Jeff Kinney is the best selling author with 12 best selling books in his record"
   ]
  },
  {
   "cell_type": "code",
   "execution_count": 30,
   "metadata": {
    "id": "1aHW8Xdd4cSu",
    "outputId": "548cc756-ec9d-484a-c32a-1a5bcd5f7b4e"
   },
   "outputs": [
    {
     "name": "stderr",
     "output_type": "stream",
     "text": [
      "C:\\Users\\felak\\AppData\\Local\\Temp/ipykernel_14612/2106088142.py:17: UserWarning: Matplotlib is currently using module://matplotlib_inline.backend_inline, which is a non-GUI backend, so cannot show the figure.\n",
      "  fig.show()\n"
     ]
    },
    {
     "data": {
      "image/png": "[encoded data removed]",
      "text/plain": [
       "<Figure size 720x432 with 2 Axes>"
      ]
     },
     "metadata": {
      "needs_background": "light"
     },
     "output_type": "display_data"
    }
   ],
   "source": [
    "Jeff_Kinney = books[books[\"Author\"].isin([\"Jeff Kinney\"]) ]\n",
    "Jeff_Kinney = Jeff_Kinney.sort_values(by=\"Year\")\n",
    "\n",
    "fig, ax1 = plt.subplots(figsize=(10, 6))\n",
    "ax1.set_facecolor('dimgrey')\n",
    "ax2 = ax1.twinx()\n",
    "ax1.bar(Jeff_Kinney[\"Name\"],Jeff_Kinney[\"User Rating\"], color = \"darkorange\", label =\"User Rating\" )\n",
    "ax1.set_ylabel(\"User Rating\", fontsize =14)\n",
    "ax1.tick_params(axis='x', labelrotation = 90)\n",
    "\n",
    "ax2.plot(Jeff_Kinney[\"Name\"],Jeff_Kinney[\"Reviews\"],color = \"saddlebrown\",marker =\"o\",lw =2, label = \"Reviews\")\n",
    "ax2.set_ylabel(\"Reviews\", fontsize =13)\n",
    "\n",
    "plt.suptitle(\"Books by Jeff_Kinney \", fontsize =20,y =1.01)\n",
    "plt.title(\"Titles vs User Ratings and Reviews\", fontsize =14)\n",
    "fig.legend(loc=\"upper right\")\n",
    "fig.show()"
   ]
  },
  {
   "cell_type": "code",
   "execution_count": 32,
   "metadata": {
    "id": "qVvUlCbo4cSu"
   },
   "outputs": [],
   "source": [
    "lowest_rated = books[books[\"User Rating\"]==books[\"User Rating\"].min()]\n",
    "Highest_rated = books[books[\"User Rating\"]==books[\"User Rating\"].max()]"
   ]
  },
  {
   "cell_type": "code",
   "execution_count": 33,
   "metadata": {
    "id": "3ttmfLo94cSv",
    "outputId": "8ed3d71e-2370-4d6e-d15a-cf63b78232c6"
   },
   "outputs": [
    {
     "data": {
      "text/html": [
       "<div>\n",
       "<style scoped>\n",
       "    .dataframe tbody tr th:only-of-type {\n",
       "        vertical-align: middle;\n",
       "    }\n",
       "\n",
       "    .dataframe tbody tr th {\n",
       "        vertical-align: top;\n",
       "    }\n",
       "\n",
       "    .dataframe thead th {\n",
       "        text-align: right;\n",
       "    }\n",
       "</style>\n",
       "<table border=\"1\" class=\"dataframe\">\n",
       "  <thead>\n",
       "    <tr style=\"text-align: right;\">\n",
       "      <th></th>\n",
       "      <th>Name</th>\n",
       "      <th>Author</th>\n",
       "      <th>User Rating</th>\n",
       "      <th>Reviews</th>\n",
       "      <th>Price</th>\n",
       "      <th>Year</th>\n",
       "      <th>Genre</th>\n",
       "    </tr>\n",
       "  </thead>\n",
       "  <tbody>\n",
       "    <tr>\n",
       "      <th>353</th>\n",
       "      <td>The Casual Vacancy</td>\n",
       "      <td>J.K. Rowling</td>\n",
       "      <td>3.3</td>\n",
       "      <td>9372</td>\n",
       "      <td>12</td>\n",
       "      <td>2012</td>\n",
       "      <td>Fiction</td>\n",
       "    </tr>\n",
       "  </tbody>\n",
       "</table>\n",
       "</div>"
      ],
      "text/plain": [
       "                   Name        Author  User Rating  Reviews  Price  Year  \\\n",
       "353  The Casual Vacancy  J.K. Rowling          3.3     9372     12  2012   \n",
       "\n",
       "       Genre  \n",
       "353  Fiction  "
      ]
     },
     "execution_count": 33,
     "metadata": {},
     "output_type": "execute_result"
    }
   ],
   "source": [
    "lowest_rated\n",
    "     "
   ]
  },
  {
   "cell_type": "markdown",
   "metadata": {
    "id": "_Q5Cd-Sb4cSv"
   },
   "source": [
    "The lowest rated book in the dataset is 'The Casual Vacancy' by J.K Rowling"
   ]
  },
  {
   "cell_type": "code",
   "execution_count": null,
   "metadata": {
    "id": "zY8uKXyG4cSv",
    "outputId": "adac7b2a-4c23-4e82-c118-7fa59a2b1c3a"
   },
   "outputs": [
    {
     "data": {
      "text/html": [
       "<div>\n",
       "<style scoped>\n",
       "    .dataframe tbody tr th:only-of-type {\n",
       "        vertical-align: middle;\n",
       "    }\n",
       "\n",
       "    .dataframe tbody tr th {\n",
       "        vertical-align: top;\n",
       "    }\n",
       "\n",
       "    .dataframe thead th {\n",
       "        text-align: right;\n",
       "    }\n",
       "</style>\n",
       "<table border=\"1\" class=\"dataframe\">\n",
       "  <thead>\n",
       "    <tr style=\"text-align: right;\">\n",
       "      <th></th>\n",
       "      <th>Name</th>\n",
       "      <th>Author</th>\n",
       "      <th>User Rating</th>\n",
       "      <th>Reviews</th>\n",
       "      <th>Price</th>\n",
       "      <th>Year</th>\n",
       "      <th>Genre</th>\n",
       "      <th>Ratingband</th>\n",
       "    </tr>\n",
       "  </thead>\n",
       "  <tbody>\n",
       "    <tr>\n",
       "      <td>40</td>\n",
       "      <td>Brown Bear, Brown Bear, What Do You See?</td>\n",
       "      <td>Bill Martin Jr.</td>\n",
       "      <td>4.9</td>\n",
       "      <td>14344</td>\n",
       "      <td>5</td>\n",
       "      <td>2017</td>\n",
       "      <td>Fiction</td>\n",
       "      <td>(4.58, 4.9]</td>\n",
       "    </tr>\n",
       "    <tr>\n",
       "      <td>41</td>\n",
       "      <td>Brown Bear, Brown Bear, What Do You See?</td>\n",
       "      <td>Bill Martin Jr.</td>\n",
       "      <td>4.9</td>\n",
       "      <td>14344</td>\n",
       "      <td>5</td>\n",
       "      <td>2019</td>\n",
       "      <td>Fiction</td>\n",
       "      <td>(4.58, 4.9]</td>\n",
       "    </tr>\n",
       "    <tr>\n",
       "      <td>81</td>\n",
       "      <td>Dog Man and Cat Kid: From the Creator of Capta...</td>\n",
       "      <td>Dav Pilkey</td>\n",
       "      <td>4.9</td>\n",
       "      <td>5062</td>\n",
       "      <td>6</td>\n",
       "      <td>2018</td>\n",
       "      <td>Fiction</td>\n",
       "      <td>(4.58, 4.9]</td>\n",
       "    </tr>\n",
       "    <tr>\n",
       "      <td>82</td>\n",
       "      <td>Dog Man: A Tale of Two Kitties: From the Creat...</td>\n",
       "      <td>Dav Pilkey</td>\n",
       "      <td>4.9</td>\n",
       "      <td>4786</td>\n",
       "      <td>8</td>\n",
       "      <td>2017</td>\n",
       "      <td>Fiction</td>\n",
       "      <td>(4.58, 4.9]</td>\n",
       "    </tr>\n",
       "    <tr>\n",
       "      <td>83</td>\n",
       "      <td>Dog Man: Brawl of the Wild: From the Creator o...</td>\n",
       "      <td>Dav Pilkey</td>\n",
       "      <td>4.9</td>\n",
       "      <td>7235</td>\n",
       "      <td>4</td>\n",
       "      <td>2018</td>\n",
       "      <td>Fiction</td>\n",
       "      <td>(4.58, 4.9]</td>\n",
       "    </tr>\n",
       "    <tr>\n",
       "      <td>84</td>\n",
       "      <td>Dog Man: Brawl of the Wild: From the Creator o...</td>\n",
       "      <td>Dav Pilkey</td>\n",
       "      <td>4.9</td>\n",
       "      <td>7235</td>\n",
       "      <td>4</td>\n",
       "      <td>2019</td>\n",
       "      <td>Fiction</td>\n",
       "      <td>(4.58, 4.9]</td>\n",
       "    </tr>\n",
       "    <tr>\n",
       "      <td>85</td>\n",
       "      <td>Dog Man: Fetch-22: From the Creator of Captain...</td>\n",
       "      <td>Dav Pilkey</td>\n",
       "      <td>4.9</td>\n",
       "      <td>12619</td>\n",
       "      <td>8</td>\n",
       "      <td>2019</td>\n",
       "      <td>Fiction</td>\n",
       "      <td>(4.58, 4.9]</td>\n",
       "    </tr>\n",
       "    <tr>\n",
       "      <td>86</td>\n",
       "      <td>Dog Man: For Whom the Ball Rolls: From the Cre...</td>\n",
       "      <td>Dav Pilkey</td>\n",
       "      <td>4.9</td>\n",
       "      <td>9089</td>\n",
       "      <td>8</td>\n",
       "      <td>2019</td>\n",
       "      <td>Fiction</td>\n",
       "      <td>(4.58, 4.9]</td>\n",
       "    </tr>\n",
       "    <tr>\n",
       "      <td>87</td>\n",
       "      <td>Dog Man: Lord of the Fleas: From the Creator o...</td>\n",
       "      <td>Dav Pilkey</td>\n",
       "      <td>4.9</td>\n",
       "      <td>5470</td>\n",
       "      <td>6</td>\n",
       "      <td>2018</td>\n",
       "      <td>Fiction</td>\n",
       "      <td>(4.58, 4.9]</td>\n",
       "    </tr>\n",
       "    <tr>\n",
       "      <td>146</td>\n",
       "      <td>Goodnight, Goodnight Construction Site (Hardco...</td>\n",
       "      <td>Sherri Duskey Rinker</td>\n",
       "      <td>4.9</td>\n",
       "      <td>7038</td>\n",
       "      <td>7</td>\n",
       "      <td>2012</td>\n",
       "      <td>Fiction</td>\n",
       "      <td>(4.58, 4.9]</td>\n",
       "    </tr>\n",
       "    <tr>\n",
       "      <td>147</td>\n",
       "      <td>Goodnight, Goodnight Construction Site (Hardco...</td>\n",
       "      <td>Sherri Duskey Rinker</td>\n",
       "      <td>4.9</td>\n",
       "      <td>7038</td>\n",
       "      <td>7</td>\n",
       "      <td>2013</td>\n",
       "      <td>Fiction</td>\n",
       "      <td>(4.58, 4.9]</td>\n",
       "    </tr>\n",
       "    <tr>\n",
       "      <td>151</td>\n",
       "      <td>Hamilton: The Revolution</td>\n",
       "      <td>Lin-Manuel Miranda</td>\n",
       "      <td>4.9</td>\n",
       "      <td>5867</td>\n",
       "      <td>54</td>\n",
       "      <td>2016</td>\n",
       "      <td>Non Fiction</td>\n",
       "      <td>(4.58, 4.9]</td>\n",
       "    </tr>\n",
       "    <tr>\n",
       "      <td>153</td>\n",
       "      <td>Harry Potter and the Chamber of Secrets: The I...</td>\n",
       "      <td>J.K. Rowling</td>\n",
       "      <td>4.9</td>\n",
       "      <td>19622</td>\n",
       "      <td>30</td>\n",
       "      <td>2016</td>\n",
       "      <td>Fiction</td>\n",
       "      <td>(4.58, 4.9]</td>\n",
       "    </tr>\n",
       "    <tr>\n",
       "      <td>155</td>\n",
       "      <td>Harry Potter and the Goblet of Fire: The Illus...</td>\n",
       "      <td>J. K. Rowling</td>\n",
       "      <td>4.9</td>\n",
       "      <td>7758</td>\n",
       "      <td>18</td>\n",
       "      <td>2019</td>\n",
       "      <td>Fiction</td>\n",
       "      <td>(4.58, 4.9]</td>\n",
       "    </tr>\n",
       "    <tr>\n",
       "      <td>156</td>\n",
       "      <td>Harry Potter and the Prisoner of Azkaban: The ...</td>\n",
       "      <td>J.K. Rowling</td>\n",
       "      <td>4.9</td>\n",
       "      <td>3146</td>\n",
       "      <td>30</td>\n",
       "      <td>2017</td>\n",
       "      <td>Fiction</td>\n",
       "      <td>(4.58, 4.9]</td>\n",
       "    </tr>\n",
       "    <tr>\n",
       "      <td>157</td>\n",
       "      <td>Harry Potter and the Sorcerer's Stone: The Ill...</td>\n",
       "      <td>J.K. Rowling</td>\n",
       "      <td>4.9</td>\n",
       "      <td>10052</td>\n",
       "      <td>22</td>\n",
       "      <td>2016</td>\n",
       "      <td>Fiction</td>\n",
       "      <td>(4.58, 4.9]</td>\n",
       "    </tr>\n",
       "    <tr>\n",
       "      <td>174</td>\n",
       "      <td>Humans of New York : Stories</td>\n",
       "      <td>Brandon Stanton</td>\n",
       "      <td>4.9</td>\n",
       "      <td>2812</td>\n",
       "      <td>17</td>\n",
       "      <td>2015</td>\n",
       "      <td>Non Fiction</td>\n",
       "      <td>(4.58, 4.9]</td>\n",
       "    </tr>\n",
       "    <tr>\n",
       "      <td>187</td>\n",
       "      <td>Jesus Calling: Enjoying Peace in His Presence ...</td>\n",
       "      <td>Sarah Young</td>\n",
       "      <td>4.9</td>\n",
       "      <td>19576</td>\n",
       "      <td>8</td>\n",
       "      <td>2011</td>\n",
       "      <td>Non Fiction</td>\n",
       "      <td>(4.58, 4.9]</td>\n",
       "    </tr>\n",
       "    <tr>\n",
       "      <td>188</td>\n",
       "      <td>Jesus Calling: Enjoying Peace in His Presence ...</td>\n",
       "      <td>Sarah Young</td>\n",
       "      <td>4.9</td>\n",
       "      <td>19576</td>\n",
       "      <td>8</td>\n",
       "      <td>2012</td>\n",
       "      <td>Non Fiction</td>\n",
       "      <td>(4.58, 4.9]</td>\n",
       "    </tr>\n",
       "    <tr>\n",
       "      <td>189</td>\n",
       "      <td>Jesus Calling: Enjoying Peace in His Presence ...</td>\n",
       "      <td>Sarah Young</td>\n",
       "      <td>4.9</td>\n",
       "      <td>19576</td>\n",
       "      <td>8</td>\n",
       "      <td>2013</td>\n",
       "      <td>Non Fiction</td>\n",
       "      <td>(4.58, 4.9]</td>\n",
       "    </tr>\n",
       "    <tr>\n",
       "      <td>190</td>\n",
       "      <td>Jesus Calling: Enjoying Peace in His Presence ...</td>\n",
       "      <td>Sarah Young</td>\n",
       "      <td>4.9</td>\n",
       "      <td>19576</td>\n",
       "      <td>8</td>\n",
       "      <td>2014</td>\n",
       "      <td>Non Fiction</td>\n",
       "      <td>(4.58, 4.9]</td>\n",
       "    </tr>\n",
       "    <tr>\n",
       "      <td>191</td>\n",
       "      <td>Jesus Calling: Enjoying Peace in His Presence ...</td>\n",
       "      <td>Sarah Young</td>\n",
       "      <td>4.9</td>\n",
       "      <td>19576</td>\n",
       "      <td>8</td>\n",
       "      <td>2015</td>\n",
       "      <td>Non Fiction</td>\n",
       "      <td>(4.58, 4.9]</td>\n",
       "    </tr>\n",
       "    <tr>\n",
       "      <td>192</td>\n",
       "      <td>Jesus Calling: Enjoying Peace in His Presence ...</td>\n",
       "      <td>Sarah Young</td>\n",
       "      <td>4.9</td>\n",
       "      <td>19576</td>\n",
       "      <td>8</td>\n",
       "      <td>2016</td>\n",
       "      <td>Non Fiction</td>\n",
       "      <td>(4.58, 4.9]</td>\n",
       "    </tr>\n",
       "    <tr>\n",
       "      <td>207</td>\n",
       "      <td>Last Week Tonight with John Oliver Presents A ...</td>\n",
       "      <td>Jill Twiss</td>\n",
       "      <td>4.9</td>\n",
       "      <td>11881</td>\n",
       "      <td>13</td>\n",
       "      <td>2018</td>\n",
       "      <td>Fiction</td>\n",
       "      <td>(4.58, 4.9]</td>\n",
       "    </tr>\n",
       "    <tr>\n",
       "      <td>219</td>\n",
       "      <td>Little Blue Truck</td>\n",
       "      <td>Alice Schertle</td>\n",
       "      <td>4.9</td>\n",
       "      <td>1884</td>\n",
       "      <td>0</td>\n",
       "      <td>2014</td>\n",
       "      <td>Fiction</td>\n",
       "      <td>(4.58, 4.9]</td>\n",
       "    </tr>\n",
       "    <tr>\n",
       "      <td>244</td>\n",
       "      <td>Obama: An Intimate Portrait</td>\n",
       "      <td>Pete Souza</td>\n",
       "      <td>4.9</td>\n",
       "      <td>3192</td>\n",
       "      <td>22</td>\n",
       "      <td>2017</td>\n",
       "      <td>Non Fiction</td>\n",
       "      <td>(4.58, 4.9]</td>\n",
       "    </tr>\n",
       "    <tr>\n",
       "      <td>245</td>\n",
       "      <td>Oh, the Places You'll Go!</td>\n",
       "      <td>Dr. Seuss</td>\n",
       "      <td>4.9</td>\n",
       "      <td>21834</td>\n",
       "      <td>8</td>\n",
       "      <td>2012</td>\n",
       "      <td>Fiction</td>\n",
       "      <td>(4.58, 4.9]</td>\n",
       "    </tr>\n",
       "    <tr>\n",
       "      <td>246</td>\n",
       "      <td>Oh, the Places You'll Go!</td>\n",
       "      <td>Dr. Seuss</td>\n",
       "      <td>4.9</td>\n",
       "      <td>21834</td>\n",
       "      <td>8</td>\n",
       "      <td>2013</td>\n",
       "      <td>Fiction</td>\n",
       "      <td>(4.58, 4.9]</td>\n",
       "    </tr>\n",
       "    <tr>\n",
       "      <td>247</td>\n",
       "      <td>Oh, the Places You'll Go!</td>\n",
       "      <td>Dr. Seuss</td>\n",
       "      <td>4.9</td>\n",
       "      <td>21834</td>\n",
       "      <td>8</td>\n",
       "      <td>2014</td>\n",
       "      <td>Fiction</td>\n",
       "      <td>(4.58, 4.9]</td>\n",
       "    </tr>\n",
       "    <tr>\n",
       "      <td>248</td>\n",
       "      <td>Oh, the Places You'll Go!</td>\n",
       "      <td>Dr. Seuss</td>\n",
       "      <td>4.9</td>\n",
       "      <td>21834</td>\n",
       "      <td>8</td>\n",
       "      <td>2015</td>\n",
       "      <td>Fiction</td>\n",
       "      <td>(4.58, 4.9]</td>\n",
       "    </tr>\n",
       "    <tr>\n",
       "      <td>249</td>\n",
       "      <td>Oh, the Places You'll Go!</td>\n",
       "      <td>Dr. Seuss</td>\n",
       "      <td>4.9</td>\n",
       "      <td>21834</td>\n",
       "      <td>8</td>\n",
       "      <td>2016</td>\n",
       "      <td>Fiction</td>\n",
       "      <td>(4.58, 4.9]</td>\n",
       "    </tr>\n",
       "    <tr>\n",
       "      <td>250</td>\n",
       "      <td>Oh, the Places You'll Go!</td>\n",
       "      <td>Dr. Seuss</td>\n",
       "      <td>4.9</td>\n",
       "      <td>21834</td>\n",
       "      <td>8</td>\n",
       "      <td>2017</td>\n",
       "      <td>Fiction</td>\n",
       "      <td>(4.58, 4.9]</td>\n",
       "    </tr>\n",
       "    <tr>\n",
       "      <td>251</td>\n",
       "      <td>Oh, the Places You'll Go!</td>\n",
       "      <td>Dr. Seuss</td>\n",
       "      <td>4.9</td>\n",
       "      <td>21834</td>\n",
       "      <td>8</td>\n",
       "      <td>2018</td>\n",
       "      <td>Fiction</td>\n",
       "      <td>(4.58, 4.9]</td>\n",
       "    </tr>\n",
       "    <tr>\n",
       "      <td>252</td>\n",
       "      <td>Oh, the Places You'll Go!</td>\n",
       "      <td>Dr. Seuss</td>\n",
       "      <td>4.9</td>\n",
       "      <td>21834</td>\n",
       "      <td>8</td>\n",
       "      <td>2019</td>\n",
       "      <td>Fiction</td>\n",
       "      <td>(4.58, 4.9]</td>\n",
       "    </tr>\n",
       "    <tr>\n",
       "      <td>288</td>\n",
       "      <td>Rush Revere and the Brave Pilgrims: Time-Trave...</td>\n",
       "      <td>Rush Limbaugh</td>\n",
       "      <td>4.9</td>\n",
       "      <td>7150</td>\n",
       "      <td>12</td>\n",
       "      <td>2013</td>\n",
       "      <td>Fiction</td>\n",
       "      <td>(4.58, 4.9]</td>\n",
       "    </tr>\n",
       "    <tr>\n",
       "      <td>289</td>\n",
       "      <td>Rush Revere and the First Patriots: Time-Trave...</td>\n",
       "      <td>Rush Limbaugh</td>\n",
       "      <td>4.9</td>\n",
       "      <td>3836</td>\n",
       "      <td>12</td>\n",
       "      <td>2014</td>\n",
       "      <td>Fiction</td>\n",
       "      <td>(4.58, 4.9]</td>\n",
       "    </tr>\n",
       "    <tr>\n",
       "      <td>303</td>\n",
       "      <td>Strange Planet (Strange Planet Series)</td>\n",
       "      <td>Nathan W. Pyle</td>\n",
       "      <td>4.9</td>\n",
       "      <td>9382</td>\n",
       "      <td>6</td>\n",
       "      <td>2019</td>\n",
       "      <td>Fiction</td>\n",
       "      <td>(4.58, 4.9]</td>\n",
       "    </tr>\n",
       "    <tr>\n",
       "      <td>420</td>\n",
       "      <td>The Legend of Zelda: Hyrule Historia</td>\n",
       "      <td>Patrick Thorpe</td>\n",
       "      <td>4.9</td>\n",
       "      <td>5396</td>\n",
       "      <td>20</td>\n",
       "      <td>2013</td>\n",
       "      <td>Fiction</td>\n",
       "      <td>(4.58, 4.9]</td>\n",
       "    </tr>\n",
       "    <tr>\n",
       "      <td>431</td>\n",
       "      <td>The Magnolia Story</td>\n",
       "      <td>Chip Gaines</td>\n",
       "      <td>4.9</td>\n",
       "      <td>7861</td>\n",
       "      <td>5</td>\n",
       "      <td>2016</td>\n",
       "      <td>Non Fiction</td>\n",
       "      <td>(4.58, 4.9]</td>\n",
       "    </tr>\n",
       "    <tr>\n",
       "      <td>476</td>\n",
       "      <td>The Very Hungry Caterpillar</td>\n",
       "      <td>Eric Carle</td>\n",
       "      <td>4.9</td>\n",
       "      <td>19546</td>\n",
       "      <td>5</td>\n",
       "      <td>2013</td>\n",
       "      <td>Fiction</td>\n",
       "      <td>(4.58, 4.9]</td>\n",
       "    </tr>\n",
       "    <tr>\n",
       "      <td>477</td>\n",
       "      <td>The Very Hungry Caterpillar</td>\n",
       "      <td>Eric Carle</td>\n",
       "      <td>4.9</td>\n",
       "      <td>19546</td>\n",
       "      <td>5</td>\n",
       "      <td>2014</td>\n",
       "      <td>Fiction</td>\n",
       "      <td>(4.58, 4.9]</td>\n",
       "    </tr>\n",
       "    <tr>\n",
       "      <td>478</td>\n",
       "      <td>The Very Hungry Caterpillar</td>\n",
       "      <td>Eric Carle</td>\n",
       "      <td>4.9</td>\n",
       "      <td>19546</td>\n",
       "      <td>5</td>\n",
       "      <td>2015</td>\n",
       "      <td>Fiction</td>\n",
       "      <td>(4.58, 4.9]</td>\n",
       "    </tr>\n",
       "    <tr>\n",
       "      <td>479</td>\n",
       "      <td>The Very Hungry Caterpillar</td>\n",
       "      <td>Eric Carle</td>\n",
       "      <td>4.9</td>\n",
       "      <td>19546</td>\n",
       "      <td>5</td>\n",
       "      <td>2016</td>\n",
       "      <td>Fiction</td>\n",
       "      <td>(4.58, 4.9]</td>\n",
       "    </tr>\n",
       "    <tr>\n",
       "      <td>480</td>\n",
       "      <td>The Very Hungry Caterpillar</td>\n",
       "      <td>Eric Carle</td>\n",
       "      <td>4.9</td>\n",
       "      <td>19546</td>\n",
       "      <td>5</td>\n",
       "      <td>2017</td>\n",
       "      <td>Fiction</td>\n",
       "      <td>(4.58, 4.9]</td>\n",
       "    </tr>\n",
       "    <tr>\n",
       "      <td>481</td>\n",
       "      <td>The Very Hungry Caterpillar</td>\n",
       "      <td>Eric Carle</td>\n",
       "      <td>4.9</td>\n",
       "      <td>19546</td>\n",
       "      <td>5</td>\n",
       "      <td>2018</td>\n",
       "      <td>Fiction</td>\n",
       "      <td>(4.58, 4.9]</td>\n",
       "    </tr>\n",
       "    <tr>\n",
       "      <td>482</td>\n",
       "      <td>The Very Hungry Caterpillar</td>\n",
       "      <td>Eric Carle</td>\n",
       "      <td>4.9</td>\n",
       "      <td>19546</td>\n",
       "      <td>5</td>\n",
       "      <td>2019</td>\n",
       "      <td>Fiction</td>\n",
       "      <td>(4.58, 4.9]</td>\n",
       "    </tr>\n",
       "    <tr>\n",
       "      <td>486</td>\n",
       "      <td>The Wonderful Things You Will Be</td>\n",
       "      <td>Emily Winfield Martin</td>\n",
       "      <td>4.9</td>\n",
       "      <td>8842</td>\n",
       "      <td>10</td>\n",
       "      <td>2016</td>\n",
       "      <td>Fiction</td>\n",
       "      <td>(4.58, 4.9]</td>\n",
       "    </tr>\n",
       "    <tr>\n",
       "      <td>487</td>\n",
       "      <td>The Wonderful Things You Will Be</td>\n",
       "      <td>Emily Winfield Martin</td>\n",
       "      <td>4.9</td>\n",
       "      <td>8842</td>\n",
       "      <td>10</td>\n",
       "      <td>2017</td>\n",
       "      <td>Fiction</td>\n",
       "      <td>(4.58, 4.9]</td>\n",
       "    </tr>\n",
       "    <tr>\n",
       "      <td>488</td>\n",
       "      <td>The Wonderful Things You Will Be</td>\n",
       "      <td>Emily Winfield Martin</td>\n",
       "      <td>4.9</td>\n",
       "      <td>8842</td>\n",
       "      <td>10</td>\n",
       "      <td>2018</td>\n",
       "      <td>Fiction</td>\n",
       "      <td>(4.58, 4.9]</td>\n",
       "    </tr>\n",
       "    <tr>\n",
       "      <td>489</td>\n",
       "      <td>The Wonderful Things You Will Be</td>\n",
       "      <td>Emily Winfield Martin</td>\n",
       "      <td>4.9</td>\n",
       "      <td>8842</td>\n",
       "      <td>10</td>\n",
       "      <td>2019</td>\n",
       "      <td>Fiction</td>\n",
       "      <td>(4.58, 4.9]</td>\n",
       "    </tr>\n",
       "    <tr>\n",
       "      <td>521</td>\n",
       "      <td>Unfreedom of the Press</td>\n",
       "      <td>Mark R. Levin</td>\n",
       "      <td>4.9</td>\n",
       "      <td>5956</td>\n",
       "      <td>11</td>\n",
       "      <td>2019</td>\n",
       "      <td>Non Fiction</td>\n",
       "      <td>(4.58, 4.9]</td>\n",
       "    </tr>\n",
       "    <tr>\n",
       "      <td>545</td>\n",
       "      <td>Wrecking Ball (Diary of a Wimpy Kid Book 14)</td>\n",
       "      <td>Jeff Kinney</td>\n",
       "      <td>4.9</td>\n",
       "      <td>9413</td>\n",
       "      <td>8</td>\n",
       "      <td>2019</td>\n",
       "      <td>Fiction</td>\n",
       "      <td>(4.58, 4.9]</td>\n",
       "    </tr>\n",
       "  </tbody>\n",
       "</table>\n",
       "</div>"
      ],
      "text/plain": [
       "                                                  Name                 Author  \\\n",
       "40            Brown Bear, Brown Bear, What Do You See?        Bill Martin Jr.   \n",
       "41            Brown Bear, Brown Bear, What Do You See?        Bill Martin Jr.   \n",
       "81   Dog Man and Cat Kid: From the Creator of Capta...             Dav Pilkey   \n",
       "82   Dog Man: A Tale of Two Kitties: From the Creat...             Dav Pilkey   \n",
       "83   Dog Man: Brawl of the Wild: From the Creator o...             Dav Pilkey   \n",
       "84   Dog Man: Brawl of the Wild: From the Creator o...             Dav Pilkey   \n",
       "85   Dog Man: Fetch-22: From the Creator of Captain...             Dav Pilkey   \n",
       "86   Dog Man: For Whom the Ball Rolls: From the Cre...             Dav Pilkey   \n",
       "87   Dog Man: Lord of the Fleas: From the Creator o...             Dav Pilkey   \n",
       "146  Goodnight, Goodnight Construction Site (Hardco...   Sherri Duskey Rinker   \n",
       "147  Goodnight, Goodnight Construction Site (Hardco...   Sherri Duskey Rinker   \n",
       "151                           Hamilton: The Revolution     Lin-Manuel Miranda   \n",
       "153  Harry Potter and the Chamber of Secrets: The I...           J.K. Rowling   \n",
       "155  Harry Potter and the Goblet of Fire: The Illus...          J. K. Rowling   \n",
       "156  Harry Potter and the Prisoner of Azkaban: The ...           J.K. Rowling   \n",
       "157  Harry Potter and the Sorcerer's Stone: The Ill...           J.K. Rowling   \n",
       "174                       Humans of New York : Stories        Brandon Stanton   \n",
       "187  Jesus Calling: Enjoying Peace in His Presence ...            Sarah Young   \n",
       "188  Jesus Calling: Enjoying Peace in His Presence ...            Sarah Young   \n",
       "189  Jesus Calling: Enjoying Peace in His Presence ...            Sarah Young   \n",
       "190  Jesus Calling: Enjoying Peace in His Presence ...            Sarah Young   \n",
       "191  Jesus Calling: Enjoying Peace in His Presence ...            Sarah Young   \n",
       "192  Jesus Calling: Enjoying Peace in His Presence ...            Sarah Young   \n",
       "207  Last Week Tonight with John Oliver Presents A ...             Jill Twiss   \n",
       "219                                  Little Blue Truck         Alice Schertle   \n",
       "244                        Obama: An Intimate Portrait             Pete Souza   \n",
       "245                          Oh, the Places You'll Go!              Dr. Seuss   \n",
       "246                          Oh, the Places You'll Go!              Dr. Seuss   \n",
       "247                          Oh, the Places You'll Go!              Dr. Seuss   \n",
       "248                          Oh, the Places You'll Go!              Dr. Seuss   \n",
       "249                          Oh, the Places You'll Go!              Dr. Seuss   \n",
       "250                          Oh, the Places You'll Go!              Dr. Seuss   \n",
       "251                          Oh, the Places You'll Go!              Dr. Seuss   \n",
       "252                          Oh, the Places You'll Go!              Dr. Seuss   \n",
       "288  Rush Revere and the Brave Pilgrims: Time-Trave...          Rush Limbaugh   \n",
       "289  Rush Revere and the First Patriots: Time-Trave...          Rush Limbaugh   \n",
       "303             Strange Planet (Strange Planet Series)         Nathan W. Pyle   \n",
       "420               The Legend of Zelda: Hyrule Historia         Patrick Thorpe   \n",
       "431                                 The Magnolia Story            Chip Gaines   \n",
       "476                        The Very Hungry Caterpillar             Eric Carle   \n",
       "477                        The Very Hungry Caterpillar             Eric Carle   \n",
       "478                        The Very Hungry Caterpillar             Eric Carle   \n",
       "479                        The Very Hungry Caterpillar             Eric Carle   \n",
       "480                        The Very Hungry Caterpillar             Eric Carle   \n",
       "481                        The Very Hungry Caterpillar             Eric Carle   \n",
       "482                        The Very Hungry Caterpillar             Eric Carle   \n",
       "486                   The Wonderful Things You Will Be  Emily Winfield Martin   \n",
       "487                   The Wonderful Things You Will Be  Emily Winfield Martin   \n",
       "488                   The Wonderful Things You Will Be  Emily Winfield Martin   \n",
       "489                   The Wonderful Things You Will Be  Emily Winfield Martin   \n",
       "521                             Unfreedom of the Press          Mark R. Levin   \n",
       "545       Wrecking Ball (Diary of a Wimpy Kid Book 14)            Jeff Kinney   \n",
       "\n",
       "     User Rating  Reviews  Price  Year        Genre   Ratingband  \n",
       "40           4.9    14344      5  2017      Fiction  (4.58, 4.9]  \n",
       "41           4.9    14344      5  2019      Fiction  (4.58, 4.9]  \n",
       "81           4.9     5062      6  2018      Fiction  (4.58, 4.9]  \n",
       "82           4.9     4786      8  2017      Fiction  (4.58, 4.9]  \n",
       "83           4.9     7235      4  2018      Fiction  (4.58, 4.9]  \n",
       "84           4.9     7235      4  2019      Fiction  (4.58, 4.9]  \n",
       "85           4.9    12619      8  2019      Fiction  (4.58, 4.9]  \n",
       "86           4.9     9089      8  2019      Fiction  (4.58, 4.9]  \n",
       "87           4.9     5470      6  2018      Fiction  (4.58, 4.9]  \n",
       "146          4.9     7038      7  2012      Fiction  (4.58, 4.9]  \n",
       "147          4.9     7038      7  2013      Fiction  (4.58, 4.9]  \n",
       "151          4.9     5867     54  2016  Non Fiction  (4.58, 4.9]  \n",
       "153          4.9    19622     30  2016      Fiction  (4.58, 4.9]  \n",
       "155          4.9     7758     18  2019      Fiction  (4.58, 4.9]  \n",
       "156          4.9     3146     30  2017      Fiction  (4.58, 4.9]  \n",
       "157          4.9    10052     22  2016      Fiction  (4.58, 4.9]  \n",
       "174          4.9     2812     17  2015  Non Fiction  (4.58, 4.9]  \n",
       "187          4.9    19576      8  2011  Non Fiction  (4.58, 4.9]  \n",
       "188          4.9    19576      8  2012  Non Fiction  (4.58, 4.9]  \n",
       "189          4.9    19576      8  2013  Non Fiction  (4.58, 4.9]  \n",
       "190          4.9    19576      8  2014  Non Fiction  (4.58, 4.9]  \n",
       "191          4.9    19576      8  2015  Non Fiction  (4.58, 4.9]  \n",
       "192          4.9    19576      8  2016  Non Fiction  (4.58, 4.9]  \n",
       "207          4.9    11881     13  2018      Fiction  (4.58, 4.9]  \n",
       "219          4.9     1884      0  2014      Fiction  (4.58, 4.9]  \n",
       "244          4.9     3192     22  2017  Non Fiction  (4.58, 4.9]  \n",
       "245          4.9    21834      8  2012      Fiction  (4.58, 4.9]  \n",
       "246          4.9    21834      8  2013      Fiction  (4.58, 4.9]  \n",
       "247          4.9    21834      8  2014      Fiction  (4.58, 4.9]  \n",
       "248          4.9    21834      8  2015      Fiction  (4.58, 4.9]  \n",
       "249          4.9    21834      8  2016      Fiction  (4.58, 4.9]  \n",
       "250          4.9    21834      8  2017      Fiction  (4.58, 4.9]  \n",
       "251          4.9    21834      8  2018      Fiction  (4.58, 4.9]  \n",
       "252          4.9    21834      8  2019      Fiction  (4.58, 4.9]  \n",
       "288          4.9     7150     12  2013      Fiction  (4.58, 4.9]  \n",
       "289          4.9     3836     12  2014      Fiction  (4.58, 4.9]  \n",
       "303          4.9     9382      6  2019      Fiction  (4.58, 4.9]  \n",
       "420          4.9     5396     20  2013      Fiction  (4.58, 4.9]  \n",
       "431          4.9     7861      5  2016  Non Fiction  (4.58, 4.9]  \n",
       "476          4.9    19546      5  2013      Fiction  (4.58, 4.9]  \n",
       "477          4.9    19546      5  2014      Fiction  (4.58, 4.9]  \n",
       "478          4.9    19546      5  2015      Fiction  (4.58, 4.9]  \n",
       "479          4.9    19546      5  2016      Fiction  (4.58, 4.9]  \n",
       "480          4.9    19546      5  2017      Fiction  (4.58, 4.9]  \n",
       "481          4.9    19546      5  2018      Fiction  (4.58, 4.9]  \n",
       "482          4.9    19546      5  2019      Fiction  (4.58, 4.9]  \n",
       "486          4.9     8842     10  2016      Fiction  (4.58, 4.9]  \n",
       "487          4.9     8842     10  2017      Fiction  (4.58, 4.9]  \n",
       "488          4.9     8842     10  2018      Fiction  (4.58, 4.9]  \n",
       "489          4.9     8842     10  2019      Fiction  (4.58, 4.9]  \n",
       "521          4.9     5956     11  2019  Non Fiction  (4.58, 4.9]  \n",
       "545          4.9     9413      8  2019      Fiction  (4.58, 4.9]  "
      ]
     },
     "execution_count": 137,
     "metadata": {},
     "output_type": "execute_result"
    }
   ],
   "source": [
    " Highest_rated"
   ]
  },
  {
   "cell_type": "code",
   "execution_count": null,
   "metadata": {
    "id": "EeZvVI-q4cSv"
   },
   "outputs": [],
   "source": []
  }
 ],
 "metadata": {
  "colab": {
   "name": "Data Analysis Project.ipynb",
   "provenance": []
  },
  "kernelspec": {
   "display_name": "Python 3 (ipykernel)",
   "language": "python",
   "name": "python3"
  },
  "language_info": {
   "codemirror_mode": {
    "name": "ipython",
    "version": 3
   },
   "file_extension": ".py",
   "mimetype": "text/x-python",
   "name": "python",
   "nbconvert_exporter": "python",
   "pygments_lexer": "ipython3",
   "version": "3.9.7"
  }
 },
 "nbformat": 4,
 "nbformat_minor": 1
}
